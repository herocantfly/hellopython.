{
 "cells": [
  {
   "cell_type": "markdown",
   "metadata": {},
   "source": [
    "# 蜡烛图形态\n",
    "**用TA_Lib寻找蜡烛图特征**"
   ]
  },
  {
   "cell_type": "markdown",
   "metadata": {},
   "source": [
    "## 目录\n",
    "- 蜡烛图是什么？\n",
    "- 蜡烛图的两大用途是什么？\n",
    "- 常见蜡烛图是怎么计算的？\n",
    "- 蜡烛图如何用图表显示，并用TA_Lib寻找蜡烛图？"
   ]
  },
  {
   "cell_type": "markdown",
   "metadata": {},
   "source": [
    "## 蜡烛图是什么？\n",
    "蜡烛图又称为K线图，主要包含四个数据，即开盘价、最高价、最低价、收盘价，所有的蜡烛图都是围绕这四个数据展开，反映大势的状况和价格信息。如果把每日的K线图放在一张图中，就能得到日K线图，同样也可画出周K线图、月K线图。"
   ]
  },
  {
   "cell_type": "markdown",
   "metadata": {},
   "source": [
    "## 蜡烛图的两大用途是什么？\n",
    "1. 判断反转信号\n",
    "2. 判断持续信号"
   ]
  },
  {
   "cell_type": "markdown",
   "metadata": {},
   "source": [
    "## 常见蜡烛图是怎么计算的？\n",
    "---\n",
    "### 1. 大阳线: 涨幅大于5%，上下影线小于1.8%\n",
    "\n",
    "$Close/Open>1.05$\n",
    "\n",
    "$High/Low < Close/Open+0.018$\n",
    "\n",
    "---\n",
    "\n",
    "### 2. 大阴线： 跌幅大于5%， 上下影线小于1.8%\n",
    "\n",
    "$Open/Close > 1.05$\n",
    "\n",
    "$High/Low < Open/Close+0.018$\n",
    "\n",
    "---\n",
    "\n",
    "### 3.下影线\n",
    "\n",
    "$(Min(Close,Open)-Low)/(High-Low)>0.667$\n",
    "\n",
    "---\n",
    "\n",
    "### 4. 上影线\n",
    "$(High-Max(Close,Open))/(High-Low)>0.667$\n",
    "\n",
    "---\n",
    "\n",
    "### 5.十字星\n",
    "$Close-Open<Abs(0.001)$\n",
    "\n",
    "$High-Low>0.001$\n",
    "\n",
    "### 6. 缺口Gap\n",
    "$open[-1]-close[-2]>0.01$"
   ]
  },
  {
   "cell_type": "markdown",
   "metadata": {},
   "source": [
    "## http://www.stockstowatch.com/candle-indicator/"
   ]
  },
  {
   "cell_type": "markdown",
   "metadata": {},
   "source": [
    "## 找出蜡烛图"
   ]
  },
  {
   "cell_type": "code",
   "execution_count": 1,
   "metadata": {},
   "outputs": [],
   "source": [
    "import warnings\n",
    "\n",
    "warnings.filterwarnings('ignore')"
   ]
  },
  {
   "cell_type": "code",
   "execution_count": 3,
   "metadata": {},
   "outputs": [
    {
     "name": "stdout",
     "output_type": "stream",
     "text": [
      "5.192053318023682\n"
     ]
    }
   ],
   "source": [
    "from jaqs_fxdayu.data.dataservice import LocalDataService\n",
    "ds = LocalDataService()\n",
    "from time import time\n",
    "## 加freq参数\n",
    "\n",
    "start = time()\n",
    "path = r'../min_data/VnTrader_1Min_Db'\n",
    "props = {'fields': 'open,high,low,close,volume','symbol': 'BTCUSDT:binance', 'freq': '8H',\n",
    "         'start_date':20180801000000}\n",
    "\n",
    "Time_dict = ds.bar_reader(path,props)\n",
    "print(time()-start)"
   ]
  },
  {
   "cell_type": "code",
   "execution_count": 4,
   "metadata": {},
   "outputs": [],
   "source": [
    "data1H = Time_dict.set_index('datetime')"
   ]
  },
  {
   "cell_type": "code",
   "execution_count": 5,
   "metadata": {
    "scrolled": true
   },
   "outputs": [],
   "source": [
    "from jaqs_fxdayu.data.hf_dataview import HFDataView\n",
    "\n",
    "dv1H = HFDataView()"
   ]
  },
  {
   "cell_type": "code",
   "execution_count": 6,
   "metadata": {
    "scrolled": true
   },
   "outputs": [
    {
     "name": "stdout",
     "output_type": "stream",
     "text": [
      "Initialize dataview success.\n"
     ]
    }
   ],
   "source": [
    "dv1H.create_init_dv(Time_dict.set_index([\"trade_date\",\"symbol\"]))"
   ]
  },
  {
   "cell_type": "markdown",
   "metadata": {},
   "source": [
    "## 判断低位"
   ]
  },
  {
   "cell_type": "code",
   "execution_count": 7,
   "metadata": {},
   "outputs": [],
   "source": [
    "def location(df):\n",
    "    Location = (df.close-df.low.rolling(50).min())/(df.high.rolling(50).max()-df.low.rolling(50).min())*100\n",
    "    return Location\n",
    "\n",
    "Location = location(data1H)"
   ]
  },
  {
   "cell_type": "code",
   "execution_count": 8,
   "metadata": {},
   "outputs": [],
   "source": [
    "# Location"
   ]
  },
  {
   "cell_type": "markdown",
   "metadata": {},
   "source": [
    "## 找出大阳线\n",
    "\n",
    "观察蜡烛图和成交量的关系，找到信号。\n"
   ]
  },
  {
   "cell_type": "code",
   "execution_count": 10,
   "metadata": {},
   "outputs": [],
   "source": [
    "import matplotlib.pyplot as plt\n",
    "import mpl_finance as mpf\n",
    "\n",
    "def draw_candle(candle, scatterX, scatterY):\n",
    "    fig, (ax, ax1) = plt.subplots(2,1,sharex=True, figsize=(18,10))\n",
    "    ax.grid(True)\n",
    "    mpf.candlestick_ohlc(ax, candle, width=0.3, colorup='r', colordown='g',alpha=1.0)\n",
    "    ax.scatter(scatterX, scatterY, color='b', s=100, marker='^')\n",
    "    ax.xaxis_date ()\n",
    "    ax1.bar(data1H.index, data1H.volume)\n",
    "    plt.show()"
   ]
  },
  {
   "cell_type": "code",
   "execution_count": 11,
   "metadata": {},
   "outputs": [],
   "source": [
    "Big_Up = dv1H.add_formula('Big_Up','If((close/open>1.02) && (high/low<(close/open+0.02)), 100, 0)', add_data=True)"
   ]
  },
  {
   "cell_type": "code",
   "execution_count": 12,
   "metadata": {},
   "outputs": [
    {
     "data": {
      "text/html": [
       "<div>\n",
       "<style>\n",
       "    .dataframe thead tr:only-child th {\n",
       "        text-align: right;\n",
       "    }\n",
       "\n",
       "    .dataframe thead th {\n",
       "        text-align: left;\n",
       "    }\n",
       "\n",
       "    .dataframe tbody tr th {\n",
       "        vertical-align: top;\n",
       "    }\n",
       "</style>\n",
       "<table border=\"1\" class=\"dataframe\">\n",
       "  <thead>\n",
       "    <tr style=\"text-align: right;\">\n",
       "      <th>symbol</th>\n",
       "      <th>BTCUSDT:binance</th>\n",
       "    </tr>\n",
       "    <tr>\n",
       "      <th>trade_date</th>\n",
       "      <th></th>\n",
       "    </tr>\n",
       "  </thead>\n",
       "  <tbody>\n",
       "    <tr>\n",
       "      <th>20180813080000</th>\n",
       "      <td>100.0</td>\n",
       "    </tr>\n",
       "    <tr>\n",
       "      <th>20180815000000</th>\n",
       "      <td>100.0</td>\n",
       "    </tr>\n",
       "    <tr>\n",
       "      <th>20180815080000</th>\n",
       "      <td>100.0</td>\n",
       "    </tr>\n",
       "    <tr>\n",
       "      <th>20180817080000</th>\n",
       "      <td>100.0</td>\n",
       "    </tr>\n",
       "    <tr>\n",
       "      <th>20180821080000</th>\n",
       "      <td>100.0</td>\n",
       "    </tr>\n",
       "    <tr>\n",
       "      <th>20180825000000</th>\n",
       "      <td>100.0</td>\n",
       "    </tr>\n",
       "    <tr>\n",
       "      <th>20180828000000</th>\n",
       "      <td>100.0</td>\n",
       "    </tr>\n",
       "    <tr>\n",
       "      <th>20180909160000</th>\n",
       "      <td>100.0</td>\n",
       "    </tr>\n",
       "    <tr>\n",
       "      <th>20180921080000</th>\n",
       "      <td>100.0</td>\n",
       "    </tr>\n",
       "  </tbody>\n",
       "</table>\n",
       "</div>"
      ],
      "text/plain": [
       "symbol          BTCUSDT:binance\n",
       "trade_date                     \n",
       "20180813080000            100.0\n",
       "20180815000000            100.0\n",
       "20180815080000            100.0\n",
       "20180817080000            100.0\n",
       "20180821080000            100.0\n",
       "20180825000000            100.0\n",
       "20180828000000            100.0\n",
       "20180909160000            100.0\n",
       "20180921080000            100.0"
      ]
     },
     "execution_count": 12,
     "metadata": {},
     "output_type": "execute_result"
    }
   ],
   "source": [
    "Big_Up[Big_Up['BTCUSDT:binance']==100]"
   ]
  },
  {
   "cell_type": "code",
   "execution_count": 13,
   "metadata": {},
   "outputs": [],
   "source": [
    "dataBigUp = dv1H.get_ts('Big_Up', date_type='datetime')"
   ]
  },
  {
   "cell_type": "code",
   "execution_count": 14,
   "metadata": {},
   "outputs": [
    {
     "data": {
      "text/plain": [
       "DatetimeIndex(['2018-08-13 08:00:00', '2018-08-15 00:00:00',\n",
       "               '2018-08-15 08:00:00', '2018-08-17 08:00:00',\n",
       "               '2018-08-21 08:00:00', '2018-08-25 00:00:00',\n",
       "               '2018-08-28 00:00:00', '2018-09-09 16:00:00',\n",
       "               '2018-09-21 08:00:00'],\n",
       "              dtype='datetime64[ns]', name='trade_date', freq=None)"
      ]
     },
     "execution_count": 14,
     "metadata": {},
     "output_type": "execute_result"
    }
   ],
   "source": [
    "dataBigUp[dataBigUp['BTCUSDT:binance']==100].index"
   ]
  },
  {
   "cell_type": "code",
   "execution_count": 15,
   "metadata": {},
   "outputs": [],
   "source": [
    "scatterBigUpX = dataBigUp[dataBigUp['BTCUSDT:binance']==100].index"
   ]
  },
  {
   "cell_type": "code",
   "execution_count": 16,
   "metadata": {},
   "outputs": [],
   "source": [
    "scatterBigUpY = data1H.loc[scatterBigUpX].low-100"
   ]
  },
  {
   "cell_type": "markdown",
   "metadata": {},
   "source": [
    "设置candle"
   ]
  },
  {
   "cell_type": "code",
   "execution_count": 17,
   "metadata": {},
   "outputs": [],
   "source": [
    "from matplotlib.pylab import date2num\n",
    "\n",
    "data1H['candleTime'] = list(map(date2num, data1H.index))\n",
    "candle = data1H.reindex_axis([\"candleTime\", \"open\", \"high\", \"low\", \"close\"], 1).values"
   ]
  },
  {
   "cell_type": "code",
   "execution_count": 18,
   "metadata": {},
   "outputs": [
    {
     "data": {
      "image/png": "[encoded data removed]",
      "text/plain": [
       "<matplotlib.figure.Figure at 0x1ecdde13908>"
      ]
     },
     "metadata": {},
     "output_type": "display_data"
    }
   ],
   "source": [
    "draw_candle(candle, scatterBigUpX, scatterBigUpY)"
   ]
  },
  {
   "cell_type": "code",
   "execution_count": 19,
   "metadata": {},
   "outputs": [],
   "source": [
    "# dataBigUp[dataBigUp['BTCUSDT:binance']==100]"
   ]
  },
  {
   "cell_type": "markdown",
   "metadata": {},
   "source": [
    "## 找出下影线\n",
    "(Min(Close,Open)-Low)/(High-Low)>0.667\n",
    "\n",
    "观察蜡烛图和成交量的关系，找到信号"
   ]
  },
  {
   "cell_type": "code",
   "execution_count": 20,
   "metadata": {},
   "outputs": [
    {
     "data": {
      "text/plain": [
       "datetime\n",
       "2018-09-20 08:00:00    6392.00\n",
       "2018-09-20 16:00:00    6411.00\n",
       "2018-09-21 00:00:00    6417.77\n",
       "2018-09-21 08:00:00    6492.00\n",
       "2018-09-21 16:00:00    6647.91\n",
       "dtype: float64"
      ]
     },
     "execution_count": 20,
     "metadata": {},
     "output_type": "execute_result"
    }
   ],
   "source": [
    "import pandas as pd\n",
    "\n",
    "pd.Series(list(map(lambda a,b : min(a,b), data1H['close'],data1H['open'])),index=data1H.index).tail()"
   ]
  },
  {
   "cell_type": "code",
   "execution_count": 21,
   "metadata": {},
   "outputs": [],
   "source": [
    "lowerShadow = dv1H.add_formula('lowerShadow','If((((Min(close,open)-low)/(high-low))>0.7),100,0)', add_data=True)"
   ]
  },
  {
   "cell_type": "code",
   "execution_count": 22,
   "metadata": {},
   "outputs": [],
   "source": [
    "datalowerShadow = dv1H.get_ts('lowerShadow', date_type='datetime')"
   ]
  },
  {
   "cell_type": "code",
   "execution_count": 23,
   "metadata": {},
   "outputs": [],
   "source": [
    "# datalowerShadow"
   ]
  },
  {
   "cell_type": "code",
   "execution_count": 24,
   "metadata": {},
   "outputs": [],
   "source": [
    "scatterlowerShadowX = datalowerShadow[datalowerShadow['BTCUSDT:binance']==100].index"
   ]
  },
  {
   "cell_type": "code",
   "execution_count": 25,
   "metadata": {},
   "outputs": [
    {
     "data": {
      "text/plain": [
       "DatetimeIndex(['2018-08-02 00:00:00', '2018-08-06 16:00:00',\n",
       "               '2018-08-07 00:00:00', '2018-08-12 16:00:00',\n",
       "               '2018-09-11 00:00:00'],\n",
       "              dtype='datetime64[ns]', name='trade_date', freq=None)"
      ]
     },
     "execution_count": 25,
     "metadata": {},
     "output_type": "execute_result"
    }
   ],
   "source": [
    "scatterlowerShadowX"
   ]
  },
  {
   "cell_type": "code",
   "execution_count": 26,
   "metadata": {},
   "outputs": [],
   "source": [
    "scatterlowerShadowY = data1H.loc[scatterlowerShadowX].low-100"
   ]
  },
  {
   "cell_type": "code",
   "execution_count": 27,
   "metadata": {},
   "outputs": [
    {
     "data": {
      "image/png": "[encoded data removed]",
      "text/plain": [
       "<matplotlib.figure.Figure at 0x1ecd4bcec18>"
      ]
     },
     "metadata": {},
     "output_type": "display_data"
    }
   ],
   "source": [
    "draw_candle(candle, scatterlowerShadowX, scatterlowerShadowY)"
   ]
  },
  {
   "cell_type": "markdown",
   "metadata": {},
   "source": [
    "## 蜡烛图如何用图表显示，并用TA_Lib寻找蜡烛图？"
   ]
  },
  {
   "cell_type": "markdown",
   "metadata": {},
   "source": [
    "## BullCandle\n",
    "### Reversal\n",
    "1. Three-line strike, bearish: 84% ta.CDL3LINESTRIKE\n",
    "2. Three white soldiers: 82% ta.CDL3WHITESOLDIERS\n",
    "3. Engulfing, bearish: 79% ta.CDLENGULFING\n",
    "4. Morning star: 78% ta.CDLMORNINGSTAR\n",
    "5. Morning doji star: 76% ta.CDLMORNINGDOJISTAR"
   ]
  },
  {
   "cell_type": "code",
   "execution_count": 28,
   "metadata": {},
   "outputs": [],
   "source": [
    "engulfing = dv1H.add_formula('engulfing', \"If((Ta('CDLENGULFING', 0, open, high, low, close, volume)==100),100,0)\", add_data=True)"
   ]
  },
  {
   "cell_type": "code",
   "execution_count": 29,
   "metadata": {},
   "outputs": [],
   "source": [
    "engulfingVolume = dv1H.get_ts('engulfing', date_type='datetime')"
   ]
  },
  {
   "cell_type": "code",
   "execution_count": 30,
   "metadata": {},
   "outputs": [
    {
     "data": {
      "text/html": [
       "<div>\n",
       "<style>\n",
       "    .dataframe thead tr:only-child th {\n",
       "        text-align: right;\n",
       "    }\n",
       "\n",
       "    .dataframe thead th {\n",
       "        text-align: left;\n",
       "    }\n",
       "\n",
       "    .dataframe tbody tr th {\n",
       "        vertical-align: top;\n",
       "    }\n",
       "</style>\n",
       "<table border=\"1\" class=\"dataframe\">\n",
       "  <thead>\n",
       "    <tr style=\"text-align: right;\">\n",
       "      <th>symbol</th>\n",
       "      <th>BTCUSDT:binance</th>\n",
       "    </tr>\n",
       "    <tr>\n",
       "      <th>trade_date</th>\n",
       "      <th></th>\n",
       "    </tr>\n",
       "  </thead>\n",
       "  <tbody>\n",
       "    <tr>\n",
       "      <th>2018-08-19 16:00:00</th>\n",
       "      <td>100.0</td>\n",
       "    </tr>\n",
       "    <tr>\n",
       "      <th>2018-08-31 00:00:00</th>\n",
       "      <td>100.0</td>\n",
       "    </tr>\n",
       "    <tr>\n",
       "      <th>2018-09-01 00:00:00</th>\n",
       "      <td>100.0</td>\n",
       "    </tr>\n",
       "    <tr>\n",
       "      <th>2018-09-04 08:00:00</th>\n",
       "      <td>100.0</td>\n",
       "    </tr>\n",
       "  </tbody>\n",
       "</table>\n",
       "</div>"
      ],
      "text/plain": [
       "symbol               BTCUSDT:binance\n",
       "trade_date                          \n",
       "2018-08-19 16:00:00            100.0\n",
       "2018-08-31 00:00:00            100.0\n",
       "2018-09-01 00:00:00            100.0\n",
       "2018-09-04 08:00:00            100.0"
      ]
     },
     "execution_count": 30,
     "metadata": {},
     "output_type": "execute_result"
    }
   ],
   "source": [
    "engulfingVolume[engulfingVolume['BTCUSDT:binance']==100]"
   ]
  },
  {
   "cell_type": "code",
   "execution_count": 31,
   "metadata": {},
   "outputs": [],
   "source": [
    "engulfingVolumeX = engulfingVolume[engulfingVolume['BTCUSDT:binance']==100].index\n",
    "engulfingVolumeY = data1H.loc[engulfingVolumeX].low-100"
   ]
  },
  {
   "cell_type": "code",
   "execution_count": 32,
   "metadata": {},
   "outputs": [
    {
     "data": {
      "image/png": "[encoded data removed]",
      "text/plain": [
       "<matplotlib.figure.Figure at 0x1ecddd58908>"
      ]
     },
     "metadata": {},
     "output_type": "display_data"
    }
   ],
   "source": [
    "draw_candle(candle, engulfingVolumeX, engulfingVolumeY)"
   ]
  }
 ],
 "metadata": {
  "kernelspec": {
   "display_name": "Python 3",
   "language": "python",
   "name": "python3"
  },
  "language_info": {
   "codemirror_mode": {
    "name": "ipython",
    "version": 3
   },
   "file_extension": ".py",
   "mimetype": "text/x-python",
   "name": "python",
   "nbconvert_exporter": "python",
   "pygments_lexer": "ipython3",
   "version": "3.5.6"
  }
 },
 "nbformat": 4,
 "nbformat_minor": 2
}
